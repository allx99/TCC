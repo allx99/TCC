{
 "cells": [
  {
   "cell_type": "code",
   "execution_count": null,
   "id": "38c3fa8f",
   "metadata": {},
   "outputs": [],
   "source": [
    "%pip install seaborn"
   ]
  },
  {
   "cell_type": "code",
   "execution_count": 1,
   "id": "7f5441f2",
   "metadata": {},
   "outputs": [],
   "source": [
    "import numpy as np\n",
    "import pandas as pd\n",
    "import tensorflow as tf\n",
    "import matplotlib as plt\n",
    "import seaborn as sns\n",
    "from keras.models import Sequential\n",
    "from keras.layers import LSTM, Dense, Dropout\n",
    "from keras.optimizers import Adam"
   ]
  },
  {
   "cell_type": "code",
   "execution_count": 2,
   "id": "b0388100",
   "metadata": {},
   "outputs": [],
   "source": [
    "# Assuming preprocessed dataset is loaded as X_train, y_train, X_test, y_test\n",
    "train_df: pd.DataFrame = pd.read_csv('train.csv')\n",
    "test_df: pd.DataFrame = pd.read_csv('test.csv')"
   ]
  },
  {
   "cell_type": "code",
   "execution_count": 3,
   "id": "afc537ab",
   "metadata": {},
   "outputs": [],
   "source": [
    "# Alley identifica o tipo de rua que dá acesso a casa por um beco, quando tem\n",
    "# Trata trocando o valor NaN por noAlley\n",
    "train_df['Alley'] = train_df['Alley'].fillna('noAlley')"
   ]
  },
  {
   "cell_type": "code",
   "execution_count": 4,
   "id": "99ac140d",
   "metadata": {},
   "outputs": [],
   "source": [
    "# FireplaceQu é indicador da qualidade da lareira, quando não tem, está com o valor NaN\n",
    "# Trata isso colocando noFireplace no lugar\n",
    "train_df['FireplaceQu'] = train_df['FireplaceQu'].fillna('noFireplace')"
   ]
  },
  {
   "cell_type": "code",
   "execution_count": 5,
   "id": "5838b36e",
   "metadata": {},
   "outputs": [],
   "source": [
    "# Fence indica a qualidade da cerca, quando não tem está com valor NaN\n",
    "# Trata isso colocando noFence no lugar\n",
    "train_df['Fence'] = train_df['Fence'].fillna('noFence')"
   ]
  },
  {
   "cell_type": "code",
   "execution_count": 6,
   "id": "793d2c73",
   "metadata": {},
   "outputs": [],
   "source": [
    "# PoolQC, PoolArea, MiscFeature and MiscVal have to many NaN values and may not correlate with SalePrice\n",
    "# Handle it by droping those columns from the data\n",
    "train_df.drop(['PoolQC', 'PoolArea', 'MiscFeature', 'MiscVal'], axis = 1, inplace = True)"
   ]
  },
  {
   "cell_type": "code",
   "execution_count": 7,
   "id": "8bcc7931",
   "metadata": {},
   "outputs": [
    {
     "name": "stderr",
     "output_type": "stream",
     "text": [
      "C:\\Users\\alexg\\AppData\\Local\\Temp\\ipykernel_6772\\1927213893.py:142: FutureWarning: The default value of numeric_only in DataFrame.mean is deprecated. In a future version, it will default to False. In addition, specifying 'numeric_only=None' is deprecated. Select only valid columns or specify the value of numeric_only to silence this warning.\n",
      "  train_df.fillna(train_df.mean(), inplace=True)\n",
      "C:\\Users\\alexg\\AppData\\Local\\Temp\\ipykernel_6772\\1927213893.py:143: FutureWarning: The default value of numeric_only in DataFrame.mean is deprecated. In a future version, it will default to False. In addition, specifying 'numeric_only=None' is deprecated. Select only valid columns or specify the value of numeric_only to silence this warning.\n",
      "  test_df.fillna(test_df.mean(), inplace=True)\n"
     ]
    }
   ],
   "source": [
    "# Alley identifica o tipo de rua que dá acesso a casa por um beco, quando tem\n",
    "# Trata trocando o valor NaN por noAlley\n",
    "train_df['Alley'] = train_df['Alley'].fillna('noAlley')\n",
    "test_df['Alley'] = test_df['Alley'].fillna('noAlley')\n",
    "\n",
    "# MasVnrType identifica o tipo de revestimento de alvenaria\n",
    "# Trata trocando o valor NaN por None\n",
    "train_df['MasVnrType'] = train_df['MasVnrType'].fillna('None')\n",
    "test_df['MasVnrType'] = test_df['MasVnrType'].fillna('None')\n",
    "\n",
    "# MasVnrArea identifica a área de revestimento de alvenaria\n",
    "# Trata trocando o valor NaN por 0\n",
    "train_df['MasVnrArea'] = train_df['MasVnrArea'].fillna(0)\n",
    "test_df['MasVnrArea'] = test_df['MasVnrArea'].fillna(0)\n",
    "\n",
    "# BsmtQual identifica a altura do porão\n",
    "# Trata trocando o valor NaN por noBsmt\n",
    "train_df['BsmtQual'] = train_df['BsmtQual'].fillna('noBsmt')\n",
    "test_df['BsmtQual'] = test_df['BsmtQual'].fillna('noBsmt')\n",
    "\n",
    "# FireplaceQu é indicador da qualidade da lareira, quando não tem, está com o valor NaN\n",
    "# Trata isso colocando noFireplace no lugar\n",
    "train_df['FireplaceQu'] = train_df['FireplaceQu'].fillna('noFireplace')\n",
    "test_df['FireplaceQu'] = test_df['FireplaceQu'].fillna('noFireplace')\n",
    "\n",
    "# Fence indica a qualidade da cerca, quando não tem está com valor NaN\n",
    "# Trata isso colocando noFence no lugar\n",
    "train_df['Fence'] = train_df['Fence'].fillna('noFence')\n",
    "test_df['Fence'] = test_df['Fence'].fillna('noFence')\n",
    "\n",
    "# GarageType indica o tipo de garagem, quando não tem está com valor NaN\n",
    "# Trata isso colocando noGarage no lugar\n",
    "train_df['GarageType'] = train_df['GarageType'].fillna('noGarage')\n",
    "test_df['GarageType'] = test_df['GarageType'].fillna('noGarage')\n",
    "\n",
    "# PoolQC, PoolArea, MiscFeature and MiscVal have too many NaN values and may not correlate with SalePrice\n",
    "# Handle it by droping those columns from the data\n",
    "test_df.drop(columns=['PoolQC', 'PoolArea', 'MiscFeature', 'MiscVal'], inplace=True)\n",
    "\n",
    "# MSSubClass is a categorical feature, so it should be treated as such\n",
    "# Handle it by turning the numbers into letters (e.g. 20 -> A, 30 -> B, etc) and then one-hot encode it\n",
    "train_df = pd.get_dummies(train_df, columns=['MSSubClass'])\n",
    "test_df = pd.get_dummies(test_df, columns=['MSSubClass'])\n",
    "\n",
    "# Some of the categorical features are ordinal and nominal, so they should be treated differently\n",
    "# Handle all of the nominal features by one-hot encoding them\n",
    "# MSZoning, Street, Alley, LotConfig, Neighborhood, Condition1, Condition2, BldgType, HouseStyle, RoofStyle, RoofMatl, Exterior1st, Exterior2nd, MasVnrType, Foundation, Heating, Electrical, GarageType, PavedDrive, SaleType, SaleCondition, LandContour,\n",
    "train_df = pd.get_dummies(train_df, columns=['MSZoning', 'Street', 'Alley', 'LotConfig', 'Neighborhood', 'Condition1', 'Condition2', 'BldgType', 'HouseStyle', 'RoofStyle', 'RoofMatl', 'Exterior1st', 'Exterior2nd', 'MasVnrType', 'Foundation', 'Heating', 'Electrical', 'GarageType', 'PavedDrive', 'SaleType', 'SaleCondition', 'LandContour'])\n",
    "test_df = pd.get_dummies(test_df, columns=['MSZoning', 'Street', 'Alley', 'LotConfig', 'Neighborhood', 'Condition1', 'Condition2', 'BldgType', 'HouseStyle', 'RoofStyle', 'RoofMatl', 'Exterior1st', 'Exterior2nd', 'MasVnrType', 'Foundation', 'Heating', 'Electrical', 'GarageType', 'PavedDrive', 'SaleType', 'SaleCondition', 'LandContour'])\n",
    "\n",
    "# Handle all of the ordinal features by mapping them to numbers\n",
    "# ExterQual, ExterCond, BsmtQual, BsmtCond, BsmtExposure, BsmtFinType1, BsmtFinType2, HeatingQC, CentralAir, KitchenQual, Functional, FireplaceQu, GarageFinish, GarageQual, GarageCond, Fence, LotShape, Utilities\n",
    "ordinal_map = {\n",
    "'Ex': 5,\n",
    "'Av': 4,\n",
    "'Gd': 4,\n",
    "'Mn': 3,\n",
    "'TA': 3,\n",
    "'Fa': 2,\n",
    "'No': 2,\n",
    "'Po': 1,\n",
    "'Na': 1,\n",
    "'GLQ': 6,\n",
    "'ALQ': 5,\n",
    "'BLQ': 4,\n",
    "'Rec': 3,\n",
    "'LwQ': 2,\n",
    "'Unf': 1,\n",
    "'Sal': 0,\n",
    "'Sev': 1,\n",
    "'Maj2': 2,\n",
    "'Maj1': 3,\n",
    "'Mod': 4,\n",
    "'Min2': 5,\n",
    "'Min1': 6,\n",
    "'Typ': 7,\n",
    "'Fin': 3,\n",
    "'RFn': 2,\n",
    "'Unf': 1,\n",
    "'GdPrv': 4,\n",
    "'MnPrv': 3,\n",
    "'GdWo': 2,\n",
    "'MnWw': 1,\n",
    "'Reg': 4,\n",
    "'IR1': 3,\n",
    "'IR2': 2,\n",
    "'IR3': 1,\n",
    "'AllPub': 4,\n",
    "'NoSewr': 3,\n",
    "'NoSeWa': 2,\n",
    "'ELO': 1,\n",
    "'noBsmt': 0,\n",
    "'noFireplace': 0,\n",
    "'noFence': 0,\n",
    "'noGarage': 0,\n",
    "'noPool': 0,\n",
    "'noMisc': 0,\n",
    "'noAlley': 0\n",
    "}\n",
    "# Apply the mapping to the ordinal features\n",
    "\n",
    "train_df['ExterQual'] = train_df['ExterQual'].map(ordinal_map)\n",
    "test_df['ExterQual'] = test_df['ExterQual'].map(ordinal_map)\n",
    "train_df['ExterCond'] = train_df['ExterCond'].map(ordinal_map)\n",
    "test_df['ExterCond'] = test_df['ExterCond'].map(ordinal_map)\n",
    "train_df['BsmtQual'] = train_df['BsmtQual'].map(ordinal_map)\n",
    "test_df['BsmtQual'] = test_df['BsmtQual'].map(ordinal_map)\n",
    "train_df['BsmtCond'] = train_df['BsmtCond'].map(ordinal_map)\n",
    "test_df['BsmtCond'] = test_df['BsmtCond'].map(ordinal_map)\n",
    "train_df['BsmtExposure'] = train_df['BsmtExposure'].map(ordinal_map)\n",
    "test_df['BsmtExposure'] = test_df['BsmtExposure'].map(ordinal_map)\n",
    "train_df['BsmtFinType1'] = train_df['BsmtFinType1'].map(ordinal_map)\n",
    "test_df['BsmtFinType1'] = test_df['BsmtFinType1'].map(ordinal_map)\n",
    "train_df['BsmtFinType2'] = train_df['BsmtFinType2'].map(ordinal_map)\n",
    "test_df['BsmtFinType2'] = test_df['BsmtFinType2'].map(ordinal_map)\n",
    "train_df['HeatingQC'] = train_df['HeatingQC'].map(ordinal_map)\n",
    "test_df['HeatingQC'] = test_df['HeatingQC'].map(ordinal_map)\n",
    "train_df['KitchenQual'] = train_df['KitchenQual'].map(ordinal_map)\n",
    "test_df['KitchenQual'] = test_df['KitchenQual'].map(ordinal_map)\n",
    "train_df['Functional'] = train_df['Functional'].map(ordinal_map)\n",
    "test_df['Functional'] = test_df['Functional'].map(ordinal_map)\n",
    "train_df['FireplaceQu'] = train_df['FireplaceQu'].map(ordinal_map)\n",
    "test_df['FireplaceQu'] = test_df['FireplaceQu'].map(ordinal_map)\n",
    "train_df['GarageFinish'] = train_df['GarageFinish'].map(ordinal_map)\n",
    "test_df['GarageFinish'] = test_df['GarageFinish'].map(ordinal_map)\n",
    "train_df['GarageQual'] = train_df['GarageQual'].map(ordinal_map)\n",
    "test_df['GarageQual'] = test_df['GarageQual'].map(ordinal_map)\n",
    "train_df['GarageCond'] = train_df['GarageCond'].map(ordinal_map)\n",
    "test_df['GarageCond'] = test_df['GarageCond'].map(ordinal_map)\n",
    "train_df['Fence'] = train_df['Fence'].map(ordinal_map)\n",
    "test_df['Fence'] = test_df['Fence'].map(ordinal_map)\n",
    "train_df['LotShape'] = train_df['LotShape'].map(ordinal_map)\n",
    "test_df['LotShape'] = test_df['LotShape'].map(ordinal_map)\n",
    "train_df['Utilities'] = train_df['Utilities'].map(ordinal_map)\n",
    "test_df['Utilities'] = test_df['Utilities'].map(ordinal_map)\n",
    "\n",
    "# Handle CentralAir by mapping it to 0 and 1\n",
    "train_df['CentralAir'] = train_df['CentralAir'].map({'N': 0, 'Y': 1}).fillna(0)\n",
    "test_df['CentralAir'] = test_df['CentralAir'].map({'N': 0, 'Y': 1}).fillna(0)\\\n",
    "\n",
    "# Handle remaining NaN values by filling them with the mean of the column\n",
    "train_df.fillna(train_df.mean(), inplace=True)\n",
    "test_df.fillna(test_df.mean(), inplace=True)"
   ]
  },
  {
   "cell_type": "code",
   "execution_count": 31,
   "id": "624e6fcd",
   "metadata": {},
   "outputs": [],
   "source": [
    "display.max_rows: pd.set_option('display.max_rows', 500) \n",
    "display.max_columns: pd.set_option('display.max_columns', 500)"
   ]
  },
  {
   "cell_type": "code",
   "execution_count": 9,
   "id": "277e478b",
   "metadata": {
    "scrolled": true
   },
   "outputs": [],
   "source": [
    "# train_df.head(500)"
   ]
  },
  {
   "cell_type": "code",
   "execution_count": 10,
   "id": "6712e1cb",
   "metadata": {},
   "outputs": [],
   "source": [
    "# plt.figure.Figure(figsize=(16, 16))"
   ]
  },
  {
   "cell_type": "code",
   "execution_count": 11,
   "id": "d9833b82",
   "metadata": {},
   "outputs": [],
   "source": [
    "# Drop the Id column, as it is not relevant for the model\n",
    "train_df.drop(columns=['Id'], inplace=True)\n",
    "test_df.drop(columns=['Id'], inplace=True)"
   ]
  },
  {
   "cell_type": "code",
   "execution_count": 12,
   "id": "358581bc",
   "metadata": {},
   "outputs": [],
   "source": [
    "# %matplotlib"
   ]
  },
  {
   "cell_type": "code",
   "execution_count": 13,
   "id": "7680ed09",
   "metadata": {},
   "outputs": [],
   "source": [
    "plt.pyplot.close(\"all\")"
   ]
  },
  {
   "cell_type": "code",
   "execution_count": null,
   "id": "a8b97c11",
   "metadata": {},
   "outputs": [],
   "source": []
  },
  {
   "cell_type": "code",
   "execution_count": 14,
   "id": "0b19d6db",
   "metadata": {},
   "outputs": [
    {
     "name": "stderr",
     "output_type": "stream",
     "text": [
      "C:\\Users\\alexg\\AppData\\Local\\Temp\\ipykernel_6772\\1520250043.py:2: FutureWarning: The default value of numeric_only in DataFrame.corr is deprecated. In a future version, it will default to False. Select only valid columns or specify the value of numeric_only to silence this warning.\n",
      "  rmatrix = train_df.corr()\n"
     ]
    },
    {
     "name": "stdout",
     "output_type": "stream",
     "text": [
      "Selected features:\n",
      "- Utilities\n",
      "- 3SsnPorch\n",
      "- MoSold\n",
      "- YrSold\n",
      "- MSSubClass_40\n",
      "- LotConfig_FR3\n",
      "- Neighborhood_Blueste\n",
      "- Neighborhood_NPkVill\n",
      "- Condition1_PosA\n",
      "- Condition1_RRAe\n",
      "- Condition1_RRNe\n",
      "- Condition1_RRNn\n",
      "- Condition2_Artery\n",
      "- Condition2_PosA\n",
      "- Condition2_PosN\n",
      "- Condition2_RRAe\n",
      "- Condition2_RRAn\n",
      "- Condition2_RRNn\n",
      "- RoofStyle_Mansard\n",
      "- RoofStyle_Shed\n",
      "- RoofMatl_ClyTile\n",
      "- RoofMatl_Membran\n",
      "- RoofMatl_Metal\n",
      "- RoofMatl_Roll\n",
      "- RoofMatl_WdShake\n",
      "- RoofMatl_WdShngl\n",
      "- Exterior1st_AsphShn\n",
      "- Exterior1st_BrkComm\n",
      "- Exterior1st_ImStucc\n",
      "- Exterior1st_Stone\n",
      "- Exterior2nd_AsphShn\n",
      "- Exterior2nd_ImStucc\n",
      "- Exterior2nd_Other\n",
      "- Exterior2nd_Stone\n",
      "- MasVnrType_BrkCmn\n",
      "- Foundation_Stone\n",
      "- Foundation_Wood\n",
      "- Heating_Floor\n",
      "- Heating_OthW\n",
      "- Electrical_FuseP\n",
      "- Electrical_Mix\n",
      "- GarageType_2Types\n",
      "- SaleType_CWD\n",
      "- SaleType_Con\n",
      "- SaleType_ConLD\n",
      "- SaleType_ConLI\n",
      "- SaleType_ConLw\n",
      "- SaleType_Oth\n",
      "- SaleCondition_AdjLand\n",
      "- SaleCondition_Family\n"
     ]
    }
   ],
   "source": [
    "# Calculate mean correlation and standard deviation\n",
    "rmatrix = train_df.corr()\n",
    "mean_corr = rmatrix.abs().mean()\n",
    "std_corr = rmatrix.std()\n",
    "\n",
    "# Identify features below 1 standard deviation\n",
    "below_std_dev = mean_corr[mean_corr < 0.03]\n",
    "\n",
    "# Filter features based on highest correlation\n",
    "selected_features = []\n",
    "for feature in below_std_dev.index:\n",
    "    max_corr = rmatrix[feature].drop(index=feature).abs().max()\n",
    "    if 0.02 <= max_corr < 1:\n",
    "        selected_features.append(feature)\n",
    "\n",
    "# Print the selected features\n",
    "print(\"Selected features:\")\n",
    "for feature in selected_features:\n",
    "    print(f\"- {feature}\")\n",
    "irrel2 = [feature for feature in selected_features]"
   ]
  },
  {
   "cell_type": "code",
   "execution_count": 15,
   "id": "38e4c3fc",
   "metadata": {},
   "outputs": [
    {
     "name": "stderr",
     "output_type": "stream",
     "text": [
      "C:\\Users\\alexg\\AppData\\Local\\Temp\\ipykernel_6772\\2259318224.py:2: FutureWarning: The default value of numeric_only in DataFrame.corr is deprecated. In a future version, it will default to False. Select only valid columns or specify the value of numeric_only to silence this warning.\n",
      "  correlation_matrix = train_df.corr()\n"
     ]
    },
    {
     "data": {
      "image/png": "[encoded data removed]",
      "text/plain": [
       "<Figure size 2000x2000 with 1 Axes>"
      ]
     },
     "metadata": {},
     "output_type": "display_data"
    }
   ],
   "source": [
    "fig, ax = plt.pyplot.subplots(figsize=(20, 20))\n",
    "correlation_matrix = train_df.corr()\n",
    "\n",
    "# Filter out features not in selected_features\n",
    "remaining_features = [col for col in correlation_matrix.columns if col not in irrel2]\n",
    "# Create a subset DataFrame\n",
    "subset_df = train_df[remaining_features]\n",
    "\n",
    "# Sort columns by mean correlation values\n",
    "sorted_columns = subset_df.abs().mean().sort_values().index\n",
    "\n",
    "# Reindex the DataFrame\n",
    "reordered_df = train_df.reindex(columns=sorted_columns)\n",
    "\n",
    "# hm = sns.heatmap(reordered_df.corr(), cbar=True, vmin=-1, vmax=1,\n",
    "#                  fmt='.1f', annot_kws={'size': 0.5}, annot=True, linewidths=0.07, cmap=\"RdBu\")\n",
    "# corr = reordered_df.iloc[:, 1:].corr()\n",
    "# ticks = np.arange(corr.shape[0]) + 0.5\n",
    "# ax.set_xticks(ticks)\n",
    "# ax.set_xticklabels(corr.columns, rotation=90, fontsize=1)\n",
    "# ax.set_yticks(ticks)\n",
    "# ax.set_yticklabels(corr.index, rotation=360, fontsize=1)\n",
    "\n",
    "# ax.set_title('correlation matrix')\n",
    "# plt.pyplot.tight_layout()\n",
    "# plt.pyplot.savefig(\"iowa_corr2.png\", dpi=2000)"
   ]
  },
  {
   "cell_type": "code",
   "execution_count": 16,
   "id": "77665924",
   "metadata": {},
   "outputs": [],
   "source": [
    "# reordered_df['CentralAir'].unique()"
   ]
  },
  {
   "cell_type": "code",
   "execution_count": 17,
   "id": "adc4fc0a",
   "metadata": {
    "scrolled": false
   },
   "outputs": [],
   "source": [
    "# mean_corr.head(232)"
   ]
  },
  {
   "cell_type": "code",
   "execution_count": 18,
   "id": "3868ee32",
   "metadata": {},
   "outputs": [],
   "source": [
    "# df2 = train_df.copy()\n",
    "# df2.columns = \"c_\" + df2.columns\n",
    "# df3 = pd.concat([train_df, df2], axis=1)\n",
    "\n",
    "# # get the correlation coefficient between the different columns\n",
    "# corr = df3.iloc[:, 1:].corr()\n",
    "# arr_corr = corr.to_numpy()\n",
    "# # mask out the top triangle\n",
    "# arr_corr[np.triu_indices_from(arr_corr)] = np.nan\n",
    "\n",
    "# fig, ax = plt.pyplot.subplots(figsize=(23, 16))\n",
    "\n",
    "# hm = sns.heatmap(arr_corr, cbar=True, vmin=-1, vmax=1,\n",
    "#                  fmt='.1f', annot_kws={'size': 0.5}, annot=True, linewidths=0.07,\n",
    "#                  square=True, cmap=\"RdBu\")\n",
    "\n",
    "# ticks = np.arange(corr.shape[0]) + 0.5\n",
    "# ax.set_xticks(ticks)\n",
    "# ax.set_xticklabels(corr.columns, rotation=90, fontsize=1)\n",
    "# ax.set_yticks(ticks)\n",
    "# ax.set_yticklabels(corr.index, rotation=360, fontsize=1)\n",
    "\n",
    "# ax.set_title('correlation matrix')\n",
    "# plt.pyplot.tight_layout()\n",
    "# plt.pyplot.savefig(\"corr_matrix_incl_anno_double.png\", dpi=2000)"
   ]
  },
  {
   "cell_type": "code",
   "execution_count": 19,
   "id": "6a6a78ec",
   "metadata": {},
   "outputs": [],
   "source": [
    "# plt.pyplot.tight_layout()\n",
    "# plt.pyplot.savefig(\"corr_matrix_incl_anno_double.png\", dpi=3000)"
   ]
  },
  {
   "cell_type": "code",
   "execution_count": 20,
   "id": "68574805",
   "metadata": {},
   "outputs": [],
   "source": [
    "# plt.pyplot.savefig('heatmap.png')"
   ]
  },
  {
   "cell_type": "code",
   "execution_count": 52,
   "id": "0a420bd0",
   "metadata": {},
   "outputs": [],
   "source": [
    "# Split the data into X and y\n",
    "X_train = reordered_df.drop(columns=['SalePrice','HouseStyle_2.5Fin'])\n",
    "y_train = reordered_df['SalePrice']\n",
    "quais = [col for col in reordered_df.columns]\n",
    "quais.remove('SalePrice')\n",
    "quais.remove('HouseStyle_2.5Fin')\n",
    "X_test = test_df[quais]"
   ]
  },
  {
   "cell_type": "code",
   "execution_count": 56,
   "id": "b0bedfb0",
   "metadata": {
    "scrolled": false
   },
   "outputs": [
    {
     "data": {
      "text/plain": [
       "Index(['Exterior1st_CBlock', 'Exterior2nd_CBlock', 'Heating_Wall',\n",
       "       'Street_Grvl', 'Condition2_Feedr', 'Heating_Grav',\n",
       "       'Exterior2nd_Brk Cmn', 'GarageType_CarPort', 'MSZoning_C (all)',\n",
       "       'MSSubClass_180',\n",
       "       ...\n",
       "       'BsmtFinSF1', 'GarageArea', 'BsmtUnfSF', 'TotalBsmtSF', '1stFlrSF',\n",
       "       'GrLivArea', 'YearBuilt', 'GarageYrBlt', 'YearRemodAdd', 'LotArea'],\n",
       "      dtype='object', length=180)"
      ]
     },
     "execution_count": 56,
     "metadata": {},
     "output_type": "execute_result"
    }
   ],
   "source": [
    "X_test.columns"
   ]
  },
  {
   "cell_type": "code",
   "execution_count": 57,
   "id": "22b1f5e0",
   "metadata": {},
   "outputs": [],
   "source": [
    "# Normalize the data\n",
    "from sklearn.preprocessing import StandardScaler\n",
    "scaler = StandardScaler()\n",
    "X_train = scaler.fit_transform(X_train)\n",
    "X_test = scaler.transform(X_test)\n",
    "\n",
    "# Reshape the data to fit the LSTM model\n",
    "X_train = X_train.reshape(X_train.shape[0], 1, X_train.shape[1])\n",
    "X_test = X_test.reshape(X_test.shape[0], 1, X_test.shape[1])\n",
    "\n",
    "# GAN Model\n",
    "epochs = 300\n"
   ]
  },
  {
   "cell_type": "code",
   "execution_count": 67,
   "id": "f587bb65",
   "metadata": {},
   "outputs": [],
   "source": [
    "y_train = y_train.values.reshape(-1, 1, 1)"
   ]
  },
  {
   "cell_type": "code",
   "execution_count": 74,
   "id": "386b0670",
   "metadata": {},
   "outputs": [],
   "source": [
    "y_train = y_train.reshape(y_train.shape[0], 1, y_train.shape[1])"
   ]
  },
  {
   "cell_type": "code",
   "execution_count": 75,
   "id": "796ba9f2",
   "metadata": {
    "scrolled": true
   },
   "outputs": [
    {
     "data": {
      "text/plain": [
       "(1460, 1, 1)"
      ]
     },
     "execution_count": 75,
     "metadata": {},
     "output_type": "execute_result"
    }
   ],
   "source": [
    "y_train.shape"
   ]
  },
  {
   "cell_type": "code",
   "execution_count": 72,
   "id": "480eb804",
   "metadata": {
    "scrolled": true
   },
   "outputs": [
    {
     "name": "stdout",
     "output_type": "stream",
     "text": [
      "\u001b[1m46/46\u001b[0m \u001b[32m━━━━━━━━━━━━━━━━━━━━\u001b[0m\u001b[37m\u001b[0m \u001b[1m1s\u001b[0m 6ms/step \n"
     ]
    },
    {
     "ename": "ValueError",
     "evalue": "Exception encountered when calling LSTMCell.call().\n\n\u001b[1mDimensions must be equal, but are 1 and 180 for '{{node sequential_12_1/lstm_23_1/lstm_cell_1/MatMul}} = MatMul[T=DT_FLOAT, grad_a=false, grad_b=false, transpose_a=false, transpose_b=false](sequential_12_1/lstm_23_1/strided_slice_1, sequential_12_1/lstm_23_1/lstm_cell_1/Cast/ReadVariableOp)' with input shapes: [1460,1], [180,200].\u001b[0m\n\nArguments received by LSTMCell.call():\n  • inputs=tf.Tensor(shape=(1460, 1), dtype=float32)\n  • states=('tf.Tensor(shape=(1460, 50), dtype=float32)', 'tf.Tensor(shape=(1460, 50), dtype=float32)')\n  • training=True",
     "output_type": "error",
     "traceback": [
      "\u001b[1;31m---------------------------------------------------------------------------\u001b[0m",
      "\u001b[1;31mValueError\u001b[0m                                Traceback (most recent call last)",
      "Cell \u001b[1;32mIn[72], line 24\u001b[0m\n\u001b[0;32m     22\u001b[0m real_data \u001b[38;5;241m=\u001b[39m y_train\n\u001b[0;32m     23\u001b[0m fake_data \u001b[38;5;241m=\u001b[39m generator\u001b[38;5;241m.\u001b[39mpredict(X_train)\n\u001b[1;32m---> 24\u001b[0m \u001b[43mdiscriminator\u001b[49m\u001b[38;5;241;43m.\u001b[39;49m\u001b[43mtrain_on_batch\u001b[49m\u001b[43m(\u001b[49m\u001b[43mreal_data\u001b[49m\u001b[43m,\u001b[49m\u001b[43m \u001b[49m\u001b[43mnp\u001b[49m\u001b[38;5;241;43m.\u001b[39;49m\u001b[43mones\u001b[49m\u001b[43m(\u001b[49m\u001b[43m(\u001b[49m\u001b[43mreal_data\u001b[49m\u001b[38;5;241;43m.\u001b[39;49m\u001b[43mshape\u001b[49m\u001b[43m[\u001b[49m\u001b[38;5;241;43m0\u001b[39;49m\u001b[43m]\u001b[49m\u001b[43m,\u001b[49m\u001b[43m \u001b[49m\u001b[38;5;241;43m1\u001b[39;49m\u001b[43m)\u001b[49m\u001b[43m)\u001b[49m\u001b[43m)\u001b[49m\n\u001b[0;32m     25\u001b[0m discriminator\u001b[38;5;241m.\u001b[39mtrain_on_batch(fake_data, np\u001b[38;5;241m.\u001b[39mzeros((fake_data\u001b[38;5;241m.\u001b[39mshape[\u001b[38;5;241m0\u001b[39m], \u001b[38;5;241m1\u001b[39m)))\n\u001b[0;32m     27\u001b[0m \u001b[38;5;66;03m# Train generator\u001b[39;00m\n",
      "File \u001b[1;32m~\\AppData\\Local\\Packages\\PythonSoftwareFoundation.Python.3.10_qbz5n2kfra8p0\\LocalCache\\local-packages\\Python310\\site-packages\\keras\\src\\backend\\tensorflow\\trainer.py:544\u001b[0m, in \u001b[0;36mTensorFlowTrainer.train_on_batch\u001b[1;34m(self, x, y, sample_weight, class_weight, return_dict)\u001b[0m\n\u001b[0;32m    541\u001b[0m \u001b[38;5;28;01mdef\u001b[39;00m \u001b[38;5;21mdata\u001b[39m():\n\u001b[0;32m    542\u001b[0m     \u001b[38;5;28;01myield\u001b[39;00m (x, y, sample_weight)\n\u001b[1;32m--> 544\u001b[0m logs \u001b[38;5;241m=\u001b[39m \u001b[38;5;28;43mself\u001b[39;49m\u001b[38;5;241;43m.\u001b[39;49m\u001b[43mtrain_function\u001b[49m\u001b[43m(\u001b[49m\u001b[43mdata\u001b[49m\u001b[43m(\u001b[49m\u001b[43m)\u001b[49m\u001b[43m)\u001b[49m\n\u001b[0;32m    545\u001b[0m logs \u001b[38;5;241m=\u001b[39m tree\u001b[38;5;241m.\u001b[39mmap_structure(\u001b[38;5;28;01mlambda\u001b[39;00m x: np\u001b[38;5;241m.\u001b[39marray(x), logs)\n\u001b[0;32m    546\u001b[0m \u001b[38;5;28;01mif\u001b[39;00m return_dict:\n",
      "File \u001b[1;32m~\\AppData\\Local\\Packages\\PythonSoftwareFoundation.Python.3.10_qbz5n2kfra8p0\\LocalCache\\local-packages\\Python310\\site-packages\\tensorflow\\python\\util\\traceback_utils.py:153\u001b[0m, in \u001b[0;36mfilter_traceback.<locals>.error_handler\u001b[1;34m(*args, **kwargs)\u001b[0m\n\u001b[0;32m    151\u001b[0m \u001b[38;5;28;01mexcept\u001b[39;00m \u001b[38;5;167;01mException\u001b[39;00m \u001b[38;5;28;01mas\u001b[39;00m e:\n\u001b[0;32m    152\u001b[0m   filtered_tb \u001b[38;5;241m=\u001b[39m _process_traceback_frames(e\u001b[38;5;241m.\u001b[39m__traceback__)\n\u001b[1;32m--> 153\u001b[0m   \u001b[38;5;28;01mraise\u001b[39;00m e\u001b[38;5;241m.\u001b[39mwith_traceback(filtered_tb) \u001b[38;5;28;01mfrom\u001b[39;00m \u001b[38;5;28;01mNone\u001b[39;00m\n\u001b[0;32m    154\u001b[0m \u001b[38;5;28;01mfinally\u001b[39;00m:\n\u001b[0;32m    155\u001b[0m   \u001b[38;5;28;01mdel\u001b[39;00m filtered_tb\n",
      "File \u001b[1;32m~\\AppData\\Local\\Packages\\PythonSoftwareFoundation.Python.3.10_qbz5n2kfra8p0\\LocalCache\\local-packages\\Python310\\site-packages\\keras\\src\\backend\\tensorflow\\trainer.py:121\u001b[0m, in \u001b[0;36mTensorFlowTrainer.make_train_function.<locals>.one_step_on_iterator\u001b[1;34m(iterator)\u001b[0m\n\u001b[0;32m    119\u001b[0m \u001b[38;5;250m\u001b[39m\u001b[38;5;124;03m\"\"\"Runs a single training step given a Dataset iterator.\"\"\"\u001b[39;00m\n\u001b[0;32m    120\u001b[0m data \u001b[38;5;241m=\u001b[39m \u001b[38;5;28mnext\u001b[39m(iterator)\n\u001b[1;32m--> 121\u001b[0m outputs \u001b[38;5;241m=\u001b[39m \u001b[38;5;28;43mself\u001b[39;49m\u001b[38;5;241;43m.\u001b[39;49m\u001b[43mdistribute_strategy\u001b[49m\u001b[38;5;241;43m.\u001b[39;49m\u001b[43mrun\u001b[49m\u001b[43m(\u001b[49m\n\u001b[0;32m    122\u001b[0m \u001b[43m    \u001b[49m\u001b[43mone_step_on_data\u001b[49m\u001b[43m,\u001b[49m\u001b[43m \u001b[49m\u001b[43margs\u001b[49m\u001b[38;5;241;43m=\u001b[39;49m\u001b[43m(\u001b[49m\u001b[43mdata\u001b[49m\u001b[43m,\u001b[49m\u001b[43m)\u001b[49m\n\u001b[0;32m    123\u001b[0m \u001b[43m\u001b[49m\u001b[43m)\u001b[49m\n\u001b[0;32m    124\u001b[0m outputs \u001b[38;5;241m=\u001b[39m reduce_per_replica(\n\u001b[0;32m    125\u001b[0m     outputs,\n\u001b[0;32m    126\u001b[0m     \u001b[38;5;28mself\u001b[39m\u001b[38;5;241m.\u001b[39mdistribute_strategy,\n\u001b[0;32m    127\u001b[0m     reduction\u001b[38;5;241m=\u001b[39m\u001b[38;5;124m\"\u001b[39m\u001b[38;5;124mauto\u001b[39m\u001b[38;5;124m\"\u001b[39m,\n\u001b[0;32m    128\u001b[0m )\n\u001b[0;32m    129\u001b[0m \u001b[38;5;28;01mreturn\u001b[39;00m outputs\n",
      "File \u001b[1;32m~\\AppData\\Local\\Packages\\PythonSoftwareFoundation.Python.3.10_qbz5n2kfra8p0\\LocalCache\\local-packages\\Python310\\site-packages\\keras\\src\\backend\\tensorflow\\trainer.py:108\u001b[0m, in \u001b[0;36mTensorFlowTrainer.make_train_function.<locals>.one_step_on_data\u001b[1;34m(data)\u001b[0m\n\u001b[0;32m    105\u001b[0m \u001b[38;5;129m@tf\u001b[39m\u001b[38;5;241m.\u001b[39mautograph\u001b[38;5;241m.\u001b[39mexperimental\u001b[38;5;241m.\u001b[39mdo_not_convert\n\u001b[0;32m    106\u001b[0m \u001b[38;5;28;01mdef\u001b[39;00m \u001b[38;5;21mone_step_on_data\u001b[39m(data):\n\u001b[0;32m    107\u001b[0m \u001b[38;5;250m    \u001b[39m\u001b[38;5;124;03m\"\"\"Runs a single training step on a batch of data.\"\"\"\u001b[39;00m\n\u001b[1;32m--> 108\u001b[0m     \u001b[38;5;28;01mreturn\u001b[39;00m \u001b[38;5;28;43mself\u001b[39;49m\u001b[38;5;241;43m.\u001b[39;49m\u001b[43mtrain_step\u001b[49m\u001b[43m(\u001b[49m\u001b[43mdata\u001b[49m\u001b[43m)\u001b[49m\n",
      "File \u001b[1;32m~\\AppData\\Local\\Packages\\PythonSoftwareFoundation.Python.3.10_qbz5n2kfra8p0\\LocalCache\\local-packages\\Python310\\site-packages\\keras\\src\\backend\\tensorflow\\trainer.py:51\u001b[0m, in \u001b[0;36mTensorFlowTrainer.train_step\u001b[1;34m(self, data)\u001b[0m\n\u001b[0;32m     49\u001b[0m \u001b[38;5;28;01mwith\u001b[39;00m tf\u001b[38;5;241m.\u001b[39mGradientTape() \u001b[38;5;28;01mas\u001b[39;00m tape:\n\u001b[0;32m     50\u001b[0m     \u001b[38;5;28;01mif\u001b[39;00m \u001b[38;5;28mself\u001b[39m\u001b[38;5;241m.\u001b[39m_call_has_training_arg:\n\u001b[1;32m---> 51\u001b[0m         y_pred \u001b[38;5;241m=\u001b[39m \u001b[38;5;28;43mself\u001b[39;49m\u001b[43m(\u001b[49m\u001b[43mx\u001b[49m\u001b[43m,\u001b[49m\u001b[43m \u001b[49m\u001b[43mtraining\u001b[49m\u001b[38;5;241;43m=\u001b[39;49m\u001b[38;5;28;43;01mTrue\u001b[39;49;00m\u001b[43m)\u001b[49m\n\u001b[0;32m     52\u001b[0m     \u001b[38;5;28;01melse\u001b[39;00m:\n\u001b[0;32m     53\u001b[0m         y_pred \u001b[38;5;241m=\u001b[39m \u001b[38;5;28mself\u001b[39m(x)\n",
      "File \u001b[1;32m~\\AppData\\Local\\Packages\\PythonSoftwareFoundation.Python.3.10_qbz5n2kfra8p0\\LocalCache\\local-packages\\Python310\\site-packages\\keras\\src\\utils\\traceback_utils.py:122\u001b[0m, in \u001b[0;36mfilter_traceback.<locals>.error_handler\u001b[1;34m(*args, **kwargs)\u001b[0m\n\u001b[0;32m    119\u001b[0m     filtered_tb \u001b[38;5;241m=\u001b[39m _process_traceback_frames(e\u001b[38;5;241m.\u001b[39m__traceback__)\n\u001b[0;32m    120\u001b[0m     \u001b[38;5;66;03m# To get the full stack trace, call:\u001b[39;00m\n\u001b[0;32m    121\u001b[0m     \u001b[38;5;66;03m# `keras.config.disable_traceback_filtering()`\u001b[39;00m\n\u001b[1;32m--> 122\u001b[0m     \u001b[38;5;28;01mraise\u001b[39;00m e\u001b[38;5;241m.\u001b[39mwith_traceback(filtered_tb) \u001b[38;5;28;01mfrom\u001b[39;00m \u001b[38;5;28;01mNone\u001b[39;00m\n\u001b[0;32m    123\u001b[0m \u001b[38;5;28;01mfinally\u001b[39;00m:\n\u001b[0;32m    124\u001b[0m     \u001b[38;5;28;01mdel\u001b[39;00m filtered_tb\n",
      "\u001b[1;31mValueError\u001b[0m: Exception encountered when calling LSTMCell.call().\n\n\u001b[1mDimensions must be equal, but are 1 and 180 for '{{node sequential_12_1/lstm_23_1/lstm_cell_1/MatMul}} = MatMul[T=DT_FLOAT, grad_a=false, grad_b=false, transpose_a=false, transpose_b=false](sequential_12_1/lstm_23_1/strided_slice_1, sequential_12_1/lstm_23_1/lstm_cell_1/Cast/ReadVariableOp)' with input shapes: [1460,1], [180,200].\u001b[0m\n\nArguments received by LSTMCell.call():\n  • inputs=tf.Tensor(shape=(1460, 1), dtype=float32)\n  • states=('tf.Tensor(shape=(1460, 50), dtype=float32)', 'tf.Tensor(shape=(1460, 50), dtype=float32)')\n  • training=True"
     ]
    }
   ],
   "source": [
    "# Generator Model\n",
    "generator = Sequential()\n",
    "generator.add(LSTM(units=50, return_sequences=True, input_shape=(X_train.shape[1], X_train.shape[2])))\n",
    "generator.add(Dropout(0.2))\n",
    "generator.add(LSTM(units=50))\n",
    "generator.add(Dense(units=1))\n",
    "\n",
    "# Discriminator Model\n",
    "discriminator = Sequential()\n",
    "discriminator.add(LSTM(units=50, return_sequences=True, input_shape=(X_train.shape[1], X_train.shape[2])))\n",
    "discriminator.add(Dropout(0.2))\n",
    "discriminator.add(LSTM(units=50))\n",
    "discriminator.add(Dense(units=1, activation='sigmoid'))\n",
    "\n",
    "# Compile both models\n",
    "generator.compile(optimizer=Adam(), loss='mean_squared_error')\n",
    "discriminator.compile(optimizer=Adam(), loss='binary_crossentropy')\n",
    "\n",
    "# Training GAN\n",
    "for epoch in range(epochs):\n",
    "    # Train discriminator\n",
    "    real_data = y_train\n",
    "    fake_data = generator.predict(X_train)\n",
    "    discriminator.train_on_batch(real_data, np.ones((real_data.shape[0], 1)))\n",
    "    discriminator.train_on_batch(fake_data, np.zeros((fake_data.shape[0], 1)))\n",
    "\n",
    "    # Train generator\n",
    "    noise = np.random.normal(0, 1, (X_train.shape[0], X_train.shape[1], X_train.shape[2]))\n",
    "    generator.train_on_batch(noise, np.ones((noise.shape[0], 1)))\n",
    "\n",
    "# Evaluate model\n",
    "predictions = generator.predict(X_test)"
   ]
  },
  {
   "cell_type": "code",
   "execution_count": null,
   "id": "e3951e66",
   "metadata": {},
   "outputs": [],
   "source": []
  }
 ],
 "metadata": {
  "kernelspec": {
   "display_name": "Python 3 (ipykernel)",
   "language": "python",
   "name": "python3"
  },
  "language_info": {
   "codemirror_mode": {
    "name": "ipython",
    "version": 3
   },
   "file_extension": ".py",
   "mimetype": "text/x-python",
   "name": "python",
   "nbconvert_exporter": "python",
   "pygments_lexer": "ipython3",
   "version": "3.10.11"
  }
 },
 "nbformat": 4,
 "nbformat_minor": 5
}
